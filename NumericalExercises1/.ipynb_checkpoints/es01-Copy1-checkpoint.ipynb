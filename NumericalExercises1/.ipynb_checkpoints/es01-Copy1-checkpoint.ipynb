{
 "cells": [
  {
   "cell_type": "code",
   "execution_count": null,
   "metadata": {},
   "outputs": [],
   "source": [
    "import matplotlib\n",
    "import matplotlib.pyplot as plt\n",
    "%matplotlib inline\n",
    "import numpy as np\n",
    "\n",
    "with open(\"results1.txt\", \"r\") as inp:\n",
    "    data = inp.readlines()\n",
    "    for line in data:\n",
    "        num = line.split()\n",
    "    \n",
    "x=np.array(float(num[3*y]) for y in range(100))\n",
    "sum_prog=np.array(float(num[3*y+2]) for y in range(100))\n",
    "err_prog=np.array(float(num[3*y+1]) for y in range(100))\n",
    "\n",
    "plt.errorbar(x,sum_prog-0.5,yerr=err_prog)\n",
    "plt.xlabel('#throws')\n",
    "plt.ylabel('<r>-1/2')\n",
    "plt.grid(True)\n",
    "plt.show()"
   ]
  }
 ],
 "metadata": {
  "kernelspec": {
   "display_name": "Python 3",
   "language": "python",
   "name": "python3"
  },
  "language_info": {
   "codemirror_mode": {
    "name": "ipython",
    "version": 3
   },
   "file_extension": ".py",
   "mimetype": "text/x-python",
   "name": "python",
   "nbconvert_exporter": "python",
   "pygments_lexer": "ipython3",
   "version": "3.7.3"
  }
 },
 "nbformat": 4,
 "nbformat_minor": 2
}
